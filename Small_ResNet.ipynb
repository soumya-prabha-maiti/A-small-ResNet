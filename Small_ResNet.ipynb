{
  "nbformat": 4,
  "nbformat_minor": 0,
  "metadata": {
    "colab": {
      "name": "Small ResNet.ipynb",
      "provenance": []
    },
    "kernelspec": {
      "name": "python3",
      "display_name": "Python 3"
    },
    "language_info": {
      "name": "python"
    },
    "accelerator": "GPU"
  },
  "cells": [
    {
      "cell_type": "code",
      "metadata": {
        "id": "c7vT0t2tuQ7i"
      },
      "source": [
        "import tensorflow as tf\n",
        "from tensorflow import keras\n",
        "import matplotlib.pyplot as plt"
      ],
      "execution_count": 18,
      "outputs": []
    },
    {
      "cell_type": "markdown",
      "metadata": {
        "id": "eXBvXz_jEl1s"
      },
      "source": [
        "# Dataset"
      ]
    },
    {
      "cell_type": "code",
      "metadata": {
        "id": "2yK5hF_zu3b3"
      },
      "source": [
        "(X_train, Y_train), (X_test, Y_test) = keras.datasets.cifar10.load_data()\n",
        "assert X_train.shape == (50000, 32, 32, 3)\n",
        "assert X_test.shape == (10000, 32, 32, 3)\n",
        "assert Y_train.shape == (50000, 1)\n",
        "assert Y_test.shape == (10000, 1)"
      ],
      "execution_count": 19,
      "outputs": []
    },
    {
      "cell_type": "code",
      "metadata": {
        "id": "8V9sEfNCFEH7"
      },
      "source": [
        "# Normalize image vectors\n",
        "X_train = X_train/255.\n",
        "X_test = X_test/255."
      ],
      "execution_count": 20,
      "outputs": []
    },
    {
      "cell_type": "code",
      "metadata": {
        "id": "CsSERzWNGKrZ"
      },
      "source": [
        "plt.imshow(X_train[1])\n",
        "print(Y_train[1])"
      ],
      "execution_count": null,
      "outputs": []
    },
    {
      "cell_type": "code",
      "metadata": {
        "id": "Mhr8vPNgFS9Q"
      },
      "source": [
        "Y_train=keras.utils.to_categorical(Y_train)\n",
        "Y_test=keras.utils.to_categorical(Y_test)"
      ],
      "execution_count": 23,
      "outputs": []
    },
    {
      "cell_type": "code",
      "metadata": {
        "colab": {
          "base_uri": "https://localhost:8080/"
        },
        "id": "TIWfA6I5GcbL",
        "outputId": "8e2e9b77-5888-45b8-efc4-b2f6e23a1072"
      },
      "source": [
        "X_train.shape"
      ],
      "execution_count": 25,
      "outputs": [
        {
          "output_type": "execute_result",
          "data": {
            "text/plain": [
              "(50000, 32, 32, 3)"
            ]
          },
          "metadata": {},
          "execution_count": 25
        }
      ]
    },
    {
      "cell_type": "code",
      "metadata": {
        "id": "7QQQs3VGGkoW"
      },
      "source": [
        "Y_train.shape"
      ],
      "execution_count": null,
      "outputs": []
    },
    {
      "cell_type": "markdown",
      "metadata": {
        "id": "3NI3movCGvpI"
      },
      "source": [
        "# Model"
      ]
    },
    {
      "cell_type": "code",
      "metadata": {
        "colab": {
          "base_uri": "https://localhost:8080/"
        },
        "id": "f04JmS0cugxK",
        "outputId": "9a0874dc-e84f-4dc0-c0dd-843ef60b2fae"
      },
      "source": [
        "inputs = keras.Input(shape=(32, 32, 3))\n",
        "\n",
        "\n",
        "\n",
        "x = keras.layers.Conv2D(32, 3)(inputs)\n",
        "x = keras.layers.BatchNormalization(axis = 3)(x)\n",
        "x = keras.layers.Activation('relu')(x)\n",
        "\n",
        "x = keras.layers.Conv2D(64, 3)(x)\n",
        "x = keras.layers.BatchNormalization(axis = 3)(x)\n",
        "x = keras.layers.Activation('relu')(x)\n",
        "\n",
        "block_1_output = keras.layers.MaxPooling2D(3,name=\"block_1_output\")(x)\n",
        "\n",
        "\n",
        "\n",
        "\n",
        "x = keras.layers.Conv2D(64, 3, padding=\"same\")(block_1_output)\n",
        "x = keras.layers.BatchNormalization(axis = 3)(x)\n",
        "x = keras.layers.Activation('relu')(x)\n",
        "\n",
        "x = keras.layers.Conv2D(64, 3, padding=\"same\")(x)\n",
        "x = keras.layers.BatchNormalization(axis = 3)(x)\n",
        "\n",
        "block_2_output = keras.layers.add([x, block_1_output])\n",
        "block_2_output = keras.layers.Activation('relu')(block_2_output)\n",
        "\n",
        "\n",
        "\n",
        "\n",
        "\n",
        "x = keras.layers.Conv2D(64, 3, padding=\"same\")(block_2_output)\n",
        "x = keras.layers.BatchNormalization(axis = 3)(x)\n",
        "x = keras.layers.Activation('relu')(x)\n",
        "\n",
        "x = keras.layers.Conv2D(64, 3, padding=\"same\")(x)\n",
        "x = keras.layers.BatchNormalization(axis = 3)(x)\n",
        "\n",
        "block_3_output = keras.layers.add([x, block_2_output])\n",
        "block_3_output = keras.layers.Activation('relu')(block_3_output)\n",
        "\n",
        "\n",
        "\n",
        "\n",
        "x = keras.layers.Conv2D(64, 3)(block_3_output)\n",
        "x = keras.layers.BatchNormalization(axis = 3)(x)\n",
        "x = keras.layers.Activation('relu')(x)\n",
        "\n",
        "x = keras.layers.GlobalAveragePooling2D()(x)\n",
        "x = keras.layers.Dense(256,activation='relu')(x)\n",
        "x = keras.layers.Dropout(0.5)(x)\n",
        "\n",
        "outputs = keras.layers.Dense(10,activation='softmax')(x)\n",
        "\n",
        "model = keras.Model(inputs, outputs, name=\"small_resnet\")\n",
        "model.summary()\n"
      ],
      "execution_count": 8,
      "outputs": [
        {
          "output_type": "stream",
          "text": [
            "Model: \"small_resnet\"\n",
            "__________________________________________________________________________________________________\n",
            "Layer (type)                    Output Shape         Param #     Connected to                     \n",
            "==================================================================================================\n",
            "input_4 (InputLayer)            [(None, 32, 32, 3)]  0                                            \n",
            "__________________________________________________________________________________________________\n",
            "conv2d_9 (Conv2D)               (None, 30, 30, 32)   896         input_4[0][0]                    \n",
            "__________________________________________________________________________________________________\n",
            "batch_normalization_7 (BatchNor (None, 30, 30, 32)   128         conv2d_9[0][0]                   \n",
            "__________________________________________________________________________________________________\n",
            "activation_9 (Activation)       (None, 30, 30, 32)   0           batch_normalization_7[0][0]      \n",
            "__________________________________________________________________________________________________\n",
            "conv2d_10 (Conv2D)              (None, 28, 28, 64)   18496       activation_9[0][0]               \n",
            "__________________________________________________________________________________________________\n",
            "batch_normalization_8 (BatchNor (None, 28, 28, 64)   256         conv2d_10[0][0]                  \n",
            "__________________________________________________________________________________________________\n",
            "activation_10 (Activation)      (None, 28, 28, 64)   0           batch_normalization_8[0][0]      \n",
            "__________________________________________________________________________________________________\n",
            "block_1_output (MaxPooling2D)   (None, 9, 9, 64)     0           activation_10[0][0]              \n",
            "__________________________________________________________________________________________________\n",
            "conv2d_11 (Conv2D)              (None, 9, 9, 64)     36928       block_1_output[0][0]             \n",
            "__________________________________________________________________________________________________\n",
            "batch_normalization_9 (BatchNor (None, 9, 9, 64)     256         conv2d_11[0][0]                  \n",
            "__________________________________________________________________________________________________\n",
            "activation_11 (Activation)      (None, 9, 9, 64)     0           batch_normalization_9[0][0]      \n",
            "__________________________________________________________________________________________________\n",
            "conv2d_12 (Conv2D)              (None, 9, 9, 64)     36928       activation_11[0][0]              \n",
            "__________________________________________________________________________________________________\n",
            "batch_normalization_10 (BatchNo (None, 9, 9, 64)     256         conv2d_12[0][0]                  \n",
            "__________________________________________________________________________________________________\n",
            "add_2 (Add)                     (None, 9, 9, 64)     0           batch_normalization_10[0][0]     \n",
            "                                                                 block_1_output[0][0]             \n",
            "__________________________________________________________________________________________________\n",
            "activation_12 (Activation)      (None, 9, 9, 64)     0           add_2[0][0]                      \n",
            "__________________________________________________________________________________________________\n",
            "conv2d_13 (Conv2D)              (None, 9, 9, 64)     36928       activation_12[0][0]              \n",
            "__________________________________________________________________________________________________\n",
            "batch_normalization_11 (BatchNo (None, 9, 9, 64)     256         conv2d_13[0][0]                  \n",
            "__________________________________________________________________________________________________\n",
            "activation_13 (Activation)      (None, 9, 9, 64)     0           batch_normalization_11[0][0]     \n",
            "__________________________________________________________________________________________________\n",
            "conv2d_14 (Conv2D)              (None, 9, 9, 64)     36928       activation_13[0][0]              \n",
            "__________________________________________________________________________________________________\n",
            "batch_normalization_12 (BatchNo (None, 9, 9, 64)     256         conv2d_14[0][0]                  \n",
            "__________________________________________________________________________________________________\n",
            "add_3 (Add)                     (None, 9, 9, 64)     0           batch_normalization_12[0][0]     \n",
            "                                                                 activation_12[0][0]              \n",
            "__________________________________________________________________________________________________\n",
            "activation_14 (Activation)      (None, 9, 9, 64)     0           add_3[0][0]                      \n",
            "__________________________________________________________________________________________________\n",
            "conv2d_15 (Conv2D)              (None, 7, 7, 64)     36928       activation_14[0][0]              \n",
            "__________________________________________________________________________________________________\n",
            "batch_normalization_13 (BatchNo (None, 7, 7, 64)     256         conv2d_15[0][0]                  \n",
            "__________________________________________________________________________________________________\n",
            "activation_15 (Activation)      (None, 7, 7, 64)     0           batch_normalization_13[0][0]     \n",
            "__________________________________________________________________________________________________\n",
            "global_average_pooling2d_1 (Glo (None, 64)           0           activation_15[0][0]              \n",
            "__________________________________________________________________________________________________\n",
            "dense_2 (Dense)                 (None, 256)          16640       global_average_pooling2d_1[0][0] \n",
            "__________________________________________________________________________________________________\n",
            "dropout_1 (Dropout)             (None, 256)          0           dense_2[0][0]                    \n",
            "__________________________________________________________________________________________________\n",
            "dense_3 (Dense)                 (None, 10)           2570        dropout_1[0][0]                  \n",
            "==================================================================================================\n",
            "Total params: 224,906\n",
            "Trainable params: 224,074\n",
            "Non-trainable params: 832\n",
            "__________________________________________________________________________________________________\n"
          ],
          "name": "stdout"
        }
      ]
    },
    {
      "cell_type": "code",
      "metadata": {
        "id": "gAKtmWwJGy3X"
      },
      "source": [
        "keras.utils.plot_model(model, \"small_resnet.png\", show_shapes=True)"
      ],
      "execution_count": null,
      "outputs": []
    }
  ]
}